{
 "cells": [
  {
   "cell_type": "markdown",
   "metadata": {},
   "source": [
    "**This project applies a convolutional autoencoder to extract a reduced number of critical features of time-series signals and then use these reduced number of features as the input for machine learning algorithms to classify each signal.**"
   ]
  },
  {
   "cell_type": "markdown",
   "metadata": {},
   "source": [
    "### 1. Import all the requiered libraries"
   ]
  },
  {
   "cell_type": "code",
   "execution_count": 1,
   "metadata": {},
   "outputs": [
    {
     "name": "stderr",
     "output_type": "stream",
     "text": [
      "Using TensorFlow backend.\n"
     ]
    }
   ],
   "source": [
    "import pandas as pd\n",
    "import numpy as np\n",
    "import matplotlib.pyplot as plt\n",
    "import seaborn as sns\n",
    "from matplotlib.colors import LogNorm\n",
    "import keras\n",
    "\n",
    "from tensorflow.keras.layers import Input, Dense, Conv1D, MaxPooling1D, UpSampling1D\n",
    "from tensorflow.keras.models import Model\n",
    "from tensorflow.keras.models import Sequential\n",
    "from keras.layers.core import Dense, Dropout, Activation, Flatten\n",
    "\n",
    "from sklearn.metrics import confusion_matrix\n",
    "from sklearn.ensemble import RandomForestClassifier\n",
    "from sklearn.svm import SVC\n",
    "from sklearn.linear_model import LogisticRegression"
   ]
  },
  {
   "cell_type": "markdown",
   "metadata": {},
   "source": [
    "### 2. Explore and prepare the dataset"
   ]
  },
  {
   "cell_type": "code",
   "execution_count": 2,
   "metadata": {},
   "outputs": [],
   "source": [
    "df = pd.read_csv(\"Synthetic control chart time series data.csv\", header=None)"
   ]
  },
  {
   "cell_type": "code",
   "execution_count": 3,
   "metadata": {},
   "outputs": [
    {
     "data": {
      "text/plain": [
       "(300, 60)"
      ]
     },
     "execution_count": 3,
     "metadata": {},
     "output_type": "execute_result"
    }
   ],
   "source": [
    "df.shape"
   ]
  },
  {
   "cell_type": "code",
   "execution_count": 4,
   "metadata": {
    "scrolled": true
   },
   "outputs": [
    {
     "data": {
      "text/html": [
       "<div>\n",
       "<style scoped>\n",
       "    .dataframe tbody tr th:only-of-type {\n",
       "        vertical-align: middle;\n",
       "    }\n",
       "\n",
       "    .dataframe tbody tr th {\n",
       "        vertical-align: top;\n",
       "    }\n",
       "\n",
       "    .dataframe thead th {\n",
       "        text-align: right;\n",
       "    }\n",
       "</style>\n",
       "<table border=\"1\" class=\"dataframe\">\n",
       "  <thead>\n",
       "    <tr style=\"text-align: right;\">\n",
       "      <th></th>\n",
       "      <th>0</th>\n",
       "      <th>1</th>\n",
       "      <th>2</th>\n",
       "      <th>3</th>\n",
       "      <th>4</th>\n",
       "      <th>5</th>\n",
       "      <th>6</th>\n",
       "      <th>7</th>\n",
       "      <th>8</th>\n",
       "      <th>9</th>\n",
       "      <th>...</th>\n",
       "      <th>50</th>\n",
       "      <th>51</th>\n",
       "      <th>52</th>\n",
       "      <th>53</th>\n",
       "      <th>54</th>\n",
       "      <th>55</th>\n",
       "      <th>56</th>\n",
       "      <th>57</th>\n",
       "      <th>58</th>\n",
       "      <th>59</th>\n",
       "    </tr>\n",
       "  </thead>\n",
       "  <tbody>\n",
       "    <tr>\n",
       "      <th>0</th>\n",
       "      <td>28.7812</td>\n",
       "      <td>34.4632</td>\n",
       "      <td>31.3381</td>\n",
       "      <td>31.2834</td>\n",
       "      <td>28.9207</td>\n",
       "      <td>33.7596</td>\n",
       "      <td>25.3969</td>\n",
       "      <td>27.7849</td>\n",
       "      <td>35.2479</td>\n",
       "      <td>27.1159</td>\n",
       "      <td>...</td>\n",
       "      <td>31.4333</td>\n",
       "      <td>24.5556</td>\n",
       "      <td>33.7431</td>\n",
       "      <td>25.0466</td>\n",
       "      <td>34.9318</td>\n",
       "      <td>34.9879</td>\n",
       "      <td>32.4721</td>\n",
       "      <td>33.3759</td>\n",
       "      <td>25.4652</td>\n",
       "      <td>25.8717</td>\n",
       "    </tr>\n",
       "    <tr>\n",
       "      <th>1</th>\n",
       "      <td>24.8923</td>\n",
       "      <td>25.7410</td>\n",
       "      <td>27.5532</td>\n",
       "      <td>32.8217</td>\n",
       "      <td>27.8789</td>\n",
       "      <td>31.5926</td>\n",
       "      <td>31.4861</td>\n",
       "      <td>35.5469</td>\n",
       "      <td>27.9516</td>\n",
       "      <td>31.6595</td>\n",
       "      <td>...</td>\n",
       "      <td>32.5577</td>\n",
       "      <td>31.0205</td>\n",
       "      <td>26.6418</td>\n",
       "      <td>28.4331</td>\n",
       "      <td>33.6564</td>\n",
       "      <td>26.4244</td>\n",
       "      <td>28.4661</td>\n",
       "      <td>34.2484</td>\n",
       "      <td>32.1005</td>\n",
       "      <td>26.6910</td>\n",
       "    </tr>\n",
       "    <tr>\n",
       "      <th>2</th>\n",
       "      <td>31.3987</td>\n",
       "      <td>30.6316</td>\n",
       "      <td>26.3983</td>\n",
       "      <td>24.2905</td>\n",
       "      <td>27.8613</td>\n",
       "      <td>28.5491</td>\n",
       "      <td>24.9717</td>\n",
       "      <td>32.4358</td>\n",
       "      <td>25.2239</td>\n",
       "      <td>27.3068</td>\n",
       "      <td>...</td>\n",
       "      <td>33.6318</td>\n",
       "      <td>26.5966</td>\n",
       "      <td>25.5387</td>\n",
       "      <td>32.5434</td>\n",
       "      <td>25.5772</td>\n",
       "      <td>29.9897</td>\n",
       "      <td>31.3510</td>\n",
       "      <td>33.9002</td>\n",
       "      <td>29.5446</td>\n",
       "      <td>29.3430</td>\n",
       "    </tr>\n",
       "    <tr>\n",
       "      <th>3</th>\n",
       "      <td>25.7740</td>\n",
       "      <td>30.5262</td>\n",
       "      <td>35.4209</td>\n",
       "      <td>25.6033</td>\n",
       "      <td>27.9700</td>\n",
       "      <td>25.2702</td>\n",
       "      <td>28.1320</td>\n",
       "      <td>29.4268</td>\n",
       "      <td>31.4549</td>\n",
       "      <td>27.3200</td>\n",
       "      <td>...</td>\n",
       "      <td>34.6292</td>\n",
       "      <td>28.7261</td>\n",
       "      <td>28.2979</td>\n",
       "      <td>31.5787</td>\n",
       "      <td>34.6156</td>\n",
       "      <td>32.5492</td>\n",
       "      <td>30.9827</td>\n",
       "      <td>24.8938</td>\n",
       "      <td>27.3659</td>\n",
       "      <td>25.3069</td>\n",
       "    </tr>\n",
       "    <tr>\n",
       "      <th>4</th>\n",
       "      <td>27.1798</td>\n",
       "      <td>29.2498</td>\n",
       "      <td>33.6928</td>\n",
       "      <td>25.6264</td>\n",
       "      <td>24.6555</td>\n",
       "      <td>28.9446</td>\n",
       "      <td>35.7980</td>\n",
       "      <td>34.9446</td>\n",
       "      <td>24.5596</td>\n",
       "      <td>34.2366</td>\n",
       "      <td>...</td>\n",
       "      <td>27.7218</td>\n",
       "      <td>27.9601</td>\n",
       "      <td>35.7198</td>\n",
       "      <td>27.5760</td>\n",
       "      <td>35.3375</td>\n",
       "      <td>29.9993</td>\n",
       "      <td>34.2149</td>\n",
       "      <td>33.1276</td>\n",
       "      <td>31.1057</td>\n",
       "      <td>31.0179</td>\n",
       "    </tr>\n",
       "  </tbody>\n",
       "</table>\n",
       "<p>5 rows × 60 columns</p>\n",
       "</div>"
      ],
      "text/plain": [
       "        0        1        2        3        4        5        6        7   \\\n",
       "0  28.7812  34.4632  31.3381  31.2834  28.9207  33.7596  25.3969  27.7849   \n",
       "1  24.8923  25.7410  27.5532  32.8217  27.8789  31.5926  31.4861  35.5469   \n",
       "2  31.3987  30.6316  26.3983  24.2905  27.8613  28.5491  24.9717  32.4358   \n",
       "3  25.7740  30.5262  35.4209  25.6033  27.9700  25.2702  28.1320  29.4268   \n",
       "4  27.1798  29.2498  33.6928  25.6264  24.6555  28.9446  35.7980  34.9446   \n",
       "\n",
       "        8        9   ...       50       51       52       53       54  \\\n",
       "0  35.2479  27.1159  ...  31.4333  24.5556  33.7431  25.0466  34.9318   \n",
       "1  27.9516  31.6595  ...  32.5577  31.0205  26.6418  28.4331  33.6564   \n",
       "2  25.2239  27.3068  ...  33.6318  26.5966  25.5387  32.5434  25.5772   \n",
       "3  31.4549  27.3200  ...  34.6292  28.7261  28.2979  31.5787  34.6156   \n",
       "4  24.5596  34.2366  ...  27.7218  27.9601  35.7198  27.5760  35.3375   \n",
       "\n",
       "        55       56       57       58       59  \n",
       "0  34.9879  32.4721  33.3759  25.4652  25.8717  \n",
       "1  26.4244  28.4661  34.2484  32.1005  26.6910  \n",
       "2  29.9897  31.3510  33.9002  29.5446  29.3430  \n",
       "3  32.5492  30.9827  24.8938  27.3659  25.3069  \n",
       "4  29.9993  34.2149  33.1276  31.1057  31.0179  \n",
       "\n",
       "[5 rows x 60 columns]"
      ]
     },
     "execution_count": 4,
     "metadata": {},
     "output_type": "execute_result"
    }
   ],
   "source": [
    "df.head(5)"
   ]
  },
  {
   "cell_type": "code",
   "execution_count": 5,
   "metadata": {},
   "outputs": [
    {
     "data": {
      "text/plain": [
       "0     0\n",
       "1     0\n",
       "2     0\n",
       "3     0\n",
       "4     0\n",
       "5     0\n",
       "6     0\n",
       "7     0\n",
       "8     0\n",
       "9     0\n",
       "10    0\n",
       "11    0\n",
       "12    0\n",
       "13    0\n",
       "14    0\n",
       "15    0\n",
       "16    0\n",
       "17    0\n",
       "18    0\n",
       "19    0\n",
       "20    0\n",
       "21    0\n",
       "22    0\n",
       "23    0\n",
       "24    0\n",
       "25    0\n",
       "26    0\n",
       "27    0\n",
       "28    0\n",
       "29    0\n",
       "30    0\n",
       "31    0\n",
       "32    0\n",
       "33    0\n",
       "34    0\n",
       "35    0\n",
       "36    0\n",
       "37    0\n",
       "38    0\n",
       "39    0\n",
       "40    0\n",
       "41    0\n",
       "42    0\n",
       "43    0\n",
       "44    0\n",
       "45    0\n",
       "46    0\n",
       "47    0\n",
       "48    0\n",
       "49    0\n",
       "50    0\n",
       "51    0\n",
       "52    0\n",
       "53    0\n",
       "54    0\n",
       "55    0\n",
       "56    0\n",
       "57    0\n",
       "58    0\n",
       "59    0\n",
       "dtype: int64"
      ]
     },
     "execution_count": 5,
     "metadata": {},
     "output_type": "execute_result"
    }
   ],
   "source": [
    "df.isnull().sum()"
   ]
  },
  {
   "cell_type": "markdown",
   "metadata": {},
   "source": [
    "**There are not blank cells or empty values and a total of 300 synthetic control chart time-series signals, each one with a length of 60 steps. Besides, there are three classes in the dataset: (1) from index 0 to 99 the signal class is Normal, (2) from index 100 to 199 the signal class is Cyclic, and (3) from index 200 to 299 the signal class is Upward shift. Lets visualize some of the signals!**"
   ]
  },
  {
   "cell_type": "code",
   "execution_count": 6,
   "metadata": {},
   "outputs": [],
   "source": [
    "normal = pd.merge(df.iloc[0], df.iloc[4], right_index = True, left_index = True)"
   ]
  },
  {
   "cell_type": "code",
   "execution_count": 7,
   "metadata": {
    "scrolled": true
   },
   "outputs": [
    {
     "data": {
      "text/plain": [
       "array([<AxesSubplot:>, <AxesSubplot:>], dtype=object)"
      ]
     },
     "execution_count": 7,
     "metadata": {},
     "output_type": "execute_result"
    },
    {
     "data": {
      "image/png": "[encoded data removed]",
      "text/plain": [
       "<Figure size 720x576 with 2 Axes>"
      ]
     },
     "metadata": {
      "needs_background": "light"
     },
     "output_type": "display_data"
    }
   ],
   "source": [
    "normal.plot(kind='line', figsize=(10,8), subplots=True, title='Normal signals')"
   ]
  },
  {
   "cell_type": "code",
   "execution_count": 8,
   "metadata": {},
   "outputs": [],
   "source": [
    "cyclic = pd.merge(df.iloc[120], df.iloc[190], right_index = True, left_index = True)"
   ]
  },
  {
   "cell_type": "code",
   "execution_count": 9,
   "metadata": {
    "scrolled": true
   },
   "outputs": [
    {
     "data": {
      "text/plain": [
       "array([<AxesSubplot:>, <AxesSubplot:>], dtype=object)"
      ]
     },
     "execution_count": 9,
     "metadata": {},
     "output_type": "execute_result"
    },
    {
     "data": {
      "image/png": "[encoded data removed]",
      "text/plain": [
       "<Figure size 720x576 with 2 Axes>"
      ]
     },
     "metadata": {
      "needs_background": "light"
     },
     "output_type": "display_data"
    }
   ],
   "source": [
    "cyclic.plot(kind='line', figsize=(10,8), subplots=True, title='Cyclic signals')"
   ]
  },
  {
   "cell_type": "code",
   "execution_count": 10,
   "metadata": {},
   "outputs": [],
   "source": [
    "upward_shift = pd.merge(df.iloc[231], df.iloc[264], right_index = True, left_index = True)"
   ]
  },
  {
   "cell_type": "code",
   "execution_count": 11,
   "metadata": {},
   "outputs": [
    {
     "data": {
      "text/plain": [
       "array([<AxesSubplot:>, <AxesSubplot:>], dtype=object)"
      ]
     },
     "execution_count": 11,
     "metadata": {},
     "output_type": "execute_result"
    },
    {
     "data": {
      "image/png": "[encoded data removed]",
      "text/plain": [
       "<Figure size 720x576 with 2 Axes>"
      ]
     },
     "metadata": {
      "needs_background": "light"
     },
     "output_type": "display_data"
    }
   ],
   "source": [
    "upward_shift.plot(kind='line', figsize=(10,8), subplots=True, title='Upward shift signals')"
   ]
  },
  {
   "cell_type": "markdown",
   "metadata": {},
   "source": [
    "**The dataset contains 100 samples for each class. Therefore, the training and testing set will be split with a 7:3 rule. This means that each class will have 70 signals for training and 30 signals for testing.**"
   ]
  },
  {
   "cell_type": "code",
   "execution_count": 12,
   "metadata": {},
   "outputs": [
    {
     "name": "stdout",
     "output_type": "stream",
     "text": [
      "Normal signal train shape: (70, 60)\n",
      "Normal signal test shape : (30, 60)\n",
      "....\n",
      "Cyclic signal train shape : (70, 60)\n",
      "Cyclic signal test shape : (30, 60)\n",
      "....\n",
      "Upward shift train shape : (70, 60)\n",
      "Upward shift test shape : (30, 60)\n"
     ]
    }
   ],
   "source": [
    "normal_train   = df[0:70]\n",
    "normal_test    = df[70:100]\n",
    "cyclic_train   = df[100:170]\n",
    "cyclic_test    = df[170:200]\n",
    "upward_train = df[200:270]\n",
    "upward_test  = df[270:300]\n",
    "\n",
    "print(\"Normal signal train shape:\", normal_train.shape)\n",
    "print(\"Normal signal test shape :\", normal_test.shape)\n",
    "print('....')\n",
    "print(\"Cyclic signal train shape :\", cyclic_train.shape)\n",
    "print(\"Cyclic signal test shape :\", cyclic_test.shape)\n",
    "print('....')\n",
    "print(\"Upward shift train shape :\", upward_train.shape)\n",
    "print(\"Upward shift test shape :\", upward_test.shape)"
   ]
  },
  {
   "cell_type": "markdown",
   "metadata": {},
   "source": [
    "**Lets create our TRAINING set!**"
   ]
  },
  {
   "cell_type": "code",
   "execution_count": 13,
   "metadata": {
    "scrolled": true
   },
   "outputs": [
    {
     "name": "stdout",
     "output_type": "stream",
     "text": [
      "(210, 60)\n",
      "(210, 60, 1)\n",
      "(210,)\n"
     ]
    }
   ],
   "source": [
    "train = np.vstack((normal_train, cyclic_train, upward_train))\n",
    "print(train.shape)\n",
    "train = np.reshape(train,[210, 60, 1])\n",
    "print(train.shape)\n",
    "\n",
    "# label 0 refers to normal, 1 to cyclic, and 2 to upward.\n",
    "train_label = np.zeros([210,])\n",
    "train_label[70:140] = 1\n",
    "train_label[140:210] = 2\n",
    "print(train_label.shape)"
   ]
  },
  {
   "cell_type": "markdown",
   "metadata": {},
   "source": [
    "**Lets create our TESTING set!**"
   ]
  },
  {
   "cell_type": "code",
   "execution_count": 14,
   "metadata": {},
   "outputs": [
    {
     "name": "stdout",
     "output_type": "stream",
     "text": [
      "(90, 60)\n",
      "(90, 60, 1)\n",
      "(90,)\n"
     ]
    }
   ],
   "source": [
    "test = np.vstack((normal_test, cyclic_test, upward_test))\n",
    "print(test.shape)\n",
    "test = np.reshape(test,[90, 60, 1])\n",
    "print(test.shape)\n",
    "# label 0 refers to normal, 1 to cyclic, and 2 to upward.\n",
    "test_label = np.zeros([90,])\n",
    "test_label[30:60] = 1\n",
    "test_label[60:90] = 2\n",
    "print(test_label.shape)"
   ]
  },
  {
   "cell_type": "markdown",
   "metadata": {},
   "source": [
    "### 3. Build the convolutional autoencoder"
   ]
  },
  {
   "cell_type": "code",
   "execution_count": 15,
   "metadata": {},
   "outputs": [
    {
     "name": "stdout",
     "output_type": "stream",
     "text": [
      "Model: \"model\"\n",
      "_________________________________________________________________\n",
      "Layer (type)                 Output Shape              Param #   \n",
      "=================================================================\n",
      "input_1 (InputLayer)         [(None, 60, 1)]           0         \n",
      "_________________________________________________________________\n",
      "conv1d (Conv1D)              (None, 60, 128)           512       \n",
      "_________________________________________________________________\n",
      "max_pooling1d (MaxPooling1D) (None, 30, 128)           0         \n",
      "_________________________________________________________________\n",
      "conv1d_1 (Conv1D)            (None, 30, 64)            24640     \n",
      "_________________________________________________________________\n",
      "max_pooling1d_1 (MaxPooling1 (None, 15, 64)            0         \n",
      "_________________________________________________________________\n",
      "conv1d_2 (Conv1D)            (None, 15, 32)            6176      \n",
      "_________________________________________________________________\n",
      "max_pooling1d_2 (MaxPooling1 (None, 8, 32)             0         \n",
      "_________________________________________________________________\n",
      "conv1d_3 (Conv1D)            (None, 8, 16)             1552      \n",
      "_________________________________________________________________\n",
      "max_pooling1d_3 (MaxPooling1 (None, 4, 16)             0         \n",
      "_________________________________________________________________\n",
      "conv1d_4 (Conv1D)            (None, 4, 1)              49        \n",
      "_________________________________________________________________\n",
      "max_pooling1d_4 (MaxPooling1 (None, 2, 1)              0         \n",
      "_________________________________________________________________\n",
      "conv1d_5 (Conv1D)            (None, 2, 16)             64        \n",
      "_________________________________________________________________\n",
      "up_sampling1d (UpSampling1D) (None, 4, 16)             0         \n",
      "_________________________________________________________________\n",
      "conv1d_6 (Conv1D)            (None, 4, 32)             1568      \n",
      "_________________________________________________________________\n",
      "up_sampling1d_1 (UpSampling1 (None, 12, 32)            0         \n",
      "_________________________________________________________________\n",
      "conv1d_7 (Conv1D)            (None, 12, 64)            6208      \n",
      "_________________________________________________________________\n",
      "up_sampling1d_2 (UpSampling1 (None, 60, 64)            0         \n",
      "_________________________________________________________________\n",
      "conv1d_8 (Conv1D)            (None, 60, 128)           24704     \n",
      "_________________________________________________________________\n",
      "conv1d_9 (Conv1D)            (None, 60, 1)             385       \n",
      "=================================================================\n",
      "Total params: 65,858\n",
      "Trainable params: 65,858\n",
      "Non-trainable params: 0\n",
      "_________________________________________________________________\n"
     ]
    }
   ],
   "source": [
    "#set up model\n",
    "model = Sequential()\n",
    "\n",
    "input_snl = Input(shape=(60,1))\n",
    "x = Conv1D(128, kernel_size=(3), padding='same', activation='relu', strides=1)(input_snl)\n",
    "x = MaxPooling1D((2), padding='same')(x)\n",
    "x = Conv1D(64, kernel_size=(3), padding='same', activation='relu', strides=1)(x)\n",
    "x = MaxPooling1D((2), padding='same')(x)\n",
    "x = Conv1D(32, kernel_size=(3), padding='same', activation='relu', strides=1)(x)\n",
    "x = MaxPooling1D((2), padding='same')(x)\n",
    "x = Conv1D(16, kernel_size=(3), padding='same', activation='relu', strides=1)(x)\n",
    "x = MaxPooling1D((2), padding='same')(x)\n",
    "x = Conv1D(1, kernel_size=(3), padding='same', activation='relu', strides=1)(x)\n",
    "encoded = MaxPooling1D((2), padding='same')(x)\n",
    "\n",
    "x = Conv1D(16, kernel_size=(3), padding='same', activation='relu', strides=1)(encoded)\n",
    "x = UpSampling1D((2))(x)\n",
    "x = Conv1D(32, kernel_size=(3), padding='same', activation='relu', strides=1)(x)\n",
    "x = UpSampling1D((3))(x)\n",
    "x = Conv1D(64, kernel_size=(3), padding='same', activation='relu', strides=1)(x)\n",
    "x = UpSampling1D((5))(x)\n",
    "x = Conv1D(128, kernel_size=(3), padding='same', activation='relu', strides=1)(x)\n",
    "decoded =Conv1D(1, kernel_size=(3), padding='same', activation='relu', strides=1)(x)\n",
    "\n",
    "autoencoder = Model(input_snl, decoded)\n",
    "autoencoder.compile(optimizer='adam', loss='mean_squared_error')\n",
    "autoencoder.summary()"
   ]
  },
  {
   "cell_type": "markdown",
   "metadata": {},
   "source": [
    "### 4. Build an encoder with 2 features output"
   ]
  },
  {
   "cell_type": "markdown",
   "metadata": {},
   "source": [
    "**Because the autoencoder is composed of two parts: (1) an encoder, and (2) a decoder, and the output of our autoencoder is the completed decoded features, it is required to also build the encoder that outputs the reduced encoded features of the autoencoder's encoder.**"
   ]
  },
  {
   "cell_type": "code",
   "execution_count": 16,
   "metadata": {},
   "outputs": [],
   "source": [
    "encoder = Model(input_snl, encoded)"
   ]
  },
  {
   "cell_type": "markdown",
   "metadata": {},
   "source": [
    "### 5. Train the convolutional autoencoder "
   ]
  },
  {
   "cell_type": "code",
   "execution_count": 17,
   "metadata": {},
   "outputs": [
    {
     "name": "stdout",
     "output_type": "stream",
     "text": [
      "Epoch 1/100\n",
      "7/7 [==============================] - 2s 18ms/step - loss: 1.0313\n",
      "Epoch 2/100\n",
      "7/7 [==============================] - 0s 16ms/step - loss: 0.4902\n",
      "Epoch 3/100\n",
      "7/7 [==============================] - 0s 17ms/step - loss: 0.4173\n",
      "Epoch 4/100\n",
      "7/7 [==============================] - 0s 16ms/step - loss: 0.3591\n",
      "Epoch 5/100\n",
      "7/7 [==============================] - 0s 16ms/step - loss: 0.2848\n",
      "Epoch 6/100\n",
      "7/7 [==============================] - 0s 16ms/step - loss: 0.2850\n",
      "Epoch 7/100\n",
      "7/7 [==============================] - 0s 14ms/step - loss: 0.2065\n",
      "Epoch 8/100\n",
      "7/7 [==============================] - 0s 14ms/step - loss: 0.1543\n",
      "Epoch 9/100\n",
      "7/7 [==============================] - 0s 15ms/step - loss: 0.1572\n",
      "Epoch 10/100\n",
      "7/7 [==============================] - 0s 15ms/step - loss: 0.1470\n",
      "Epoch 11/100\n",
      "7/7 [==============================] - 0s 15ms/step - loss: 0.1220\n",
      "Epoch 12/100\n",
      "7/7 [==============================] - 0s 14ms/step - loss: 0.1217\n",
      "Epoch 13/100\n",
      "7/7 [==============================] - 0s 14ms/step - loss: 0.1075\n",
      "Epoch 14/100\n",
      "7/7 [==============================] - 0s 13ms/step - loss: 0.0799\n",
      "Epoch 15/100\n",
      "7/7 [==============================] - 0s 12ms/step - loss: 0.0768\n",
      "Epoch 16/100\n",
      "7/7 [==============================] - 0s 13ms/step - loss: 0.0635\n",
      "Epoch 17/100\n",
      "7/7 [==============================] - 0s 13ms/step - loss: 0.0554\n",
      "Epoch 18/100\n",
      "7/7 [==============================] - 0s 13ms/step - loss: 0.0488\n",
      "Epoch 19/100\n",
      "7/7 [==============================] - 0s 12ms/step - loss: 0.0552\n",
      "Epoch 20/100\n",
      "7/7 [==============================] - 0s 11ms/step - loss: 0.0543\n",
      "Epoch 21/100\n",
      "7/7 [==============================] - 0s 11ms/step - loss: 0.0429\n",
      "Epoch 22/100\n",
      "7/7 [==============================] - 0s 12ms/step - loss: 0.0403\n",
      "Epoch 23/100\n",
      "7/7 [==============================] - 0s 12ms/step - loss: 0.0279\n",
      "Epoch 24/100\n",
      "7/7 [==============================] - 0s 13ms/step - loss: 0.0291\n",
      "Epoch 25/100\n",
      "7/7 [==============================] - 0s 11ms/step - loss: 0.0275\n",
      "Epoch 26/100\n",
      "7/7 [==============================] - 0s 13ms/step - loss: 0.0182\n",
      "Epoch 27/100\n",
      "7/7 [==============================] - 0s 11ms/step - loss: 0.0228\n",
      "Epoch 28/100\n",
      "7/7 [==============================] - 0s 12ms/step - loss: 0.0201\n",
      "Epoch 29/100\n",
      "7/7 [==============================] - 0s 11ms/step - loss: 0.0190\n",
      "Epoch 30/100\n",
      "7/7 [==============================] - 0s 11ms/step - loss: 0.0201\n",
      "Epoch 31/100\n",
      "7/7 [==============================] - 0s 12ms/step - loss: 0.0150\n",
      "Epoch 32/100\n",
      "7/7 [==============================] - 0s 12ms/step - loss: 0.0130\n",
      "Epoch 33/100\n",
      "7/7 [==============================] - 0s 12ms/step - loss: 0.0137\n",
      "Epoch 34/100\n",
      "7/7 [==============================] - 0s 10ms/step - loss: 0.0126\n",
      "Epoch 35/100\n",
      "7/7 [==============================] - 0s 12ms/step - loss: 0.0186\n",
      "Epoch 36/100\n",
      "7/7 [==============================] - 0s 11ms/step - loss: 0.0171\n",
      "Epoch 37/100\n",
      "7/7 [==============================] - 0s 12ms/step - loss: 0.0174\n",
      "Epoch 38/100\n",
      "7/7 [==============================] - 0s 13ms/step - loss: 0.0096\n",
      "Epoch 39/100\n",
      "7/7 [==============================] - 0s 13ms/step - loss: 0.0071\n",
      "Epoch 40/100\n",
      "7/7 [==============================] - 0s 13ms/step - loss: 0.0054\n",
      "Epoch 41/100\n",
      "7/7 [==============================] - 0s 13ms/step - loss: 0.0052\n",
      "Epoch 42/100\n",
      "7/7 [==============================] - 0s 12ms/step - loss: 0.0051\n",
      "Epoch 43/100\n",
      "7/7 [==============================] - 0s 13ms/step - loss: 0.0045\n",
      "Epoch 44/100\n",
      "7/7 [==============================] - 0s 12ms/step - loss: 0.0047\n",
      "Epoch 45/100\n",
      "7/7 [==============================] - 0s 12ms/step - loss: 0.0047\n",
      "Epoch 46/100\n",
      "7/7 [==============================] - 0s 12ms/step - loss: 0.0038\n",
      "Epoch 47/100\n",
      "7/7 [==============================] - 0s 13ms/step - loss: 0.0035\n",
      "Epoch 48/100\n",
      "7/7 [==============================] - 0s 10ms/step - loss: 0.0046\n",
      "Epoch 49/100\n",
      "7/7 [==============================] - 0s 11ms/step - loss: 0.0043\n",
      "Epoch 50/100\n",
      "7/7 [==============================] - 0s 11ms/step - loss: 0.0038\n",
      "Epoch 51/100\n",
      "7/7 [==============================] - 0s 12ms/step - loss: 0.0037\n",
      "Epoch 52/100\n",
      "7/7 [==============================] - 0s 12ms/step - loss: 0.0029\n",
      "Epoch 53/100\n",
      "7/7 [==============================] - 0s 11ms/step - loss: 0.0024\n",
      "Epoch 54/100\n",
      "7/7 [==============================] - 0s 11ms/step - loss: 0.0028\n",
      "Epoch 55/100\n",
      "7/7 [==============================] - 0s 9ms/step - loss: 0.0027\n",
      "Epoch 56/100\n",
      "7/7 [==============================] - 0s 11ms/step - loss: 0.0018\n",
      "Epoch 57/100\n",
      "7/7 [==============================] - 0s 9ms/step - loss: 0.0022\n",
      "Epoch 58/100\n",
      "7/7 [==============================] - 0s 8ms/step - loss: 0.0025\n",
      "Epoch 59/100\n",
      "7/7 [==============================] - 0s 10ms/step - loss: 0.0018\n",
      "Epoch 60/100\n",
      "7/7 [==============================] - 0s 8ms/step - loss: 0.0018\n",
      "Epoch 61/100\n",
      "7/7 [==============================] - 0s 10ms/step - loss: 0.0021\n",
      "Epoch 62/100\n",
      "7/7 [==============================] - 0s 9ms/step - loss: 0.0014\n",
      "Epoch 63/100\n",
      "7/7 [==============================] - 0s 7ms/step - loss: 0.0017\n",
      "Epoch 64/100\n",
      "7/7 [==============================] - 0s 10ms/step - loss: 0.0015\n",
      "Epoch 65/100\n",
      "7/7 [==============================] - 0s 9ms/step - loss: 0.0016\n",
      "Epoch 66/100\n",
      "7/7 [==============================] - 0s 8ms/step - loss: 0.0020\n",
      "Epoch 67/100\n",
      "7/7 [==============================] - 0s 9ms/step - loss: 0.0024\n",
      "Epoch 68/100\n",
      "7/7 [==============================] - 0s 7ms/step - loss: 0.0015\n",
      "Epoch 69/100\n",
      "7/7 [==============================] - 0s 9ms/step - loss: 0.0013\n",
      "Epoch 70/100\n",
      "7/7 [==============================] - 0s 8ms/step - loss: 0.0015\n",
      "Epoch 71/100\n",
      "7/7 [==============================] - 0s 8ms/step - loss: 0.0018\n",
      "Epoch 72/100\n",
      "7/7 [==============================] - 0s 9ms/step - loss: 0.0020\n",
      "Epoch 73/100\n",
      "7/7 [==============================] - 0s 9ms/step - loss: 0.0014\n",
      "Epoch 74/100\n",
      "7/7 [==============================] - 0s 9ms/step - loss: 0.0014\n",
      "Epoch 75/100\n",
      "7/7 [==============================] - 0s 9ms/step - loss: 0.0020\n",
      "Epoch 76/100\n",
      "7/7 [==============================] - 0s 8ms/step - loss: 0.0026\n",
      "Epoch 77/100\n",
      "7/7 [==============================] - 0s 9ms/step - loss: 0.0016\n",
      "Epoch 78/100\n",
      "7/7 [==============================] - 0s 8ms/step - loss: 0.0016\n",
      "Epoch 79/100\n",
      "7/7 [==============================] - 0s 9ms/step - loss: 0.0014\n",
      "Epoch 80/100\n",
      "7/7 [==============================] - 0s 8ms/step - loss: 9.3749e-04\n",
      "Epoch 81/100\n",
      "7/7 [==============================] - 0s 8ms/step - loss: 0.0011\n",
      "Epoch 82/100\n",
      "7/7 [==============================] - 0s 6ms/step - loss: 0.0011\n",
      "Epoch 83/100\n",
      "7/7 [==============================] - 0s 8ms/step - loss: 0.0012\n",
      "Epoch 84/100\n",
      "7/7 [==============================] - 0s 9ms/step - loss: 8.2115e-04\n",
      "Epoch 85/100\n",
      "7/7 [==============================] - 0s 9ms/step - loss: 0.0014\n",
      "Epoch 86/100\n",
      "7/7 [==============================] - 0s 8ms/step - loss: 0.0014\n",
      "Epoch 87/100\n",
      "7/7 [==============================] - 0s 9ms/step - loss: 0.0015\n",
      "Epoch 88/100\n",
      "7/7 [==============================] - 0s 7ms/step - loss: 0.0012\n",
      "Epoch 89/100\n",
      "7/7 [==============================] - 0s 9ms/step - loss: 0.0019\n",
      "Epoch 90/100\n",
      "7/7 [==============================] - 0s 10ms/step - loss: 0.0022\n",
      "Epoch 91/100\n",
      "7/7 [==============================] - 0s 8ms/step - loss: 0.0026\n",
      "Epoch 92/100\n",
      "7/7 [==============================] - 0s 7ms/step - loss: 0.0034\n",
      "Epoch 93/100\n",
      "7/7 [==============================] - 0s 9ms/step - loss: 0.0034\n",
      "Epoch 94/100\n",
      "7/7 [==============================] - 0s 9ms/step - loss: 0.0034\n",
      "Epoch 95/100\n",
      "7/7 [==============================] - 0s 8ms/step - loss: 0.0063\n",
      "Epoch 96/100\n",
      "7/7 [==============================] - 0s 7ms/step - loss: 0.0089\n",
      "Epoch 97/100\n",
      "7/7 [==============================] - 0s 9ms/step - loss: 0.0155\n",
      "Epoch 98/100\n",
      "7/7 [==============================] - 0s 8ms/step - loss: 0.0218\n",
      "Epoch 99/100\n",
      "7/7 [==============================] - 0s 7ms/step - loss: 0.0168\n",
      "Epoch 100/100\n",
      "7/7 [==============================] - 0s 9ms/step - loss: 0.0044\n"
     ]
    },
    {
     "data": {
      "text/plain": [
       "<tensorflow.python.keras.callbacks.History at 0x11c071aef70>"
      ]
     },
     "execution_count": 17,
     "metadata": {},
     "output_type": "execute_result"
    }
   ],
   "source": [
    "#fit model\n",
    "autoencoder.fit(train, train_label, epochs=100, batch_size=30, shuffle=True)"
   ]
  },
  {
   "cell_type": "markdown",
   "metadata": {},
   "source": [
    "**Now that our autoencoder is trained, including its encoder part, we can encode all our signals, reducing their features from 60 to only 2. Lets do that for the training and testing set.**"
   ]
  },
  {
   "cell_type": "markdown",
   "metadata": {},
   "source": [
    "### 6. Make predictions with our encoder"
   ]
  },
  {
   "cell_type": "code",
   "execution_count": 18,
   "metadata": {},
   "outputs": [
    {
     "name": "stdout",
     "output_type": "stream",
     "text": [
      "The shape of the initial training signals:  (210, 60, 1)\n",
      "The shape of the encoded training signals:  (210, 2, 1)\n"
     ]
    }
   ],
   "source": [
    "# training set\n",
    "print('The shape of the initial training signals: ', train.shape)\n",
    "encoded_snls = encoder.predict(train)\n",
    "print('The shape of the encoded training signals: ', encoded_snls.shape)\n",
    "encoded_snls = np.reshape(encoded_snls, [210, 2])"
   ]
  },
  {
   "cell_type": "code",
   "execution_count": 19,
   "metadata": {},
   "outputs": [
    {
     "name": "stdout",
     "output_type": "stream",
     "text": [
      "The shape of the initial testing signals:  (90, 60, 1)\n",
      "The shape of the encoded testing signals:  (90, 2, 1)\n"
     ]
    }
   ],
   "source": [
    "# testing set\n",
    "print('The shape of the initial testing signals: ', test.shape)\n",
    "extract = encoder.predict(test)\n",
    "print('The shape of the encoded testing signals: ', extract.shape)\n",
    "extract = np.reshape(extract, [90, 2])"
   ]
  },
  {
   "cell_type": "markdown",
   "metadata": {},
   "source": [
    "### 7. Visualization of the 2 unique features"
   ]
  },
  {
   "cell_type": "markdown",
   "metadata": {},
   "source": [
    "**Training set**"
   ]
  },
  {
   "cell_type": "code",
   "execution_count": 20,
   "metadata": {},
   "outputs": [
    {
     "data": {
      "image/png": "[encoded data removed]",
      "text/plain": [
       "<Figure size 432x288 with 1 Axes>"
      ]
     },
     "metadata": {
      "needs_background": "light"
     },
     "output_type": "display_data"
    }
   ],
   "source": [
    "plt.scatter(encoded_snls[0:70,0],encoded_snls[0:70,1], color='red', label='Normal')\n",
    "plt.scatter(encoded_snls[70:140,0],encoded_snls[70:140,1], color='green', label='Cyclic')\n",
    "plt.scatter(encoded_snls[140:210,0],encoded_snls[140:210,1], color='blue', label='Upward')\n",
    "\n",
    "plt.legend(loc='upper right')\n",
    "plt.show()"
   ]
  },
  {
   "cell_type": "markdown",
   "metadata": {},
   "source": [
    "**Testing set**"
   ]
  },
  {
   "cell_type": "code",
   "execution_count": 21,
   "metadata": {},
   "outputs": [
    {
     "data": {
      "image/png": "[encoded data removed]",
      "text/plain": [
       "<Figure size 432x288 with 1 Axes>"
      ]
     },
     "metadata": {
      "needs_background": "light"
     },
     "output_type": "display_data"
    }
   ],
   "source": [
    "plt.scatter(extract[0:30,0],extract[0:30,1],color='red',label='Normal')\n",
    "plt.scatter(extract[30:60,0],extract[30:60,1],color='green',label='Cyclic')\n",
    "plt.scatter(extract[60:90,0],extract[60:90,1],color='blue',label='Upward')\n",
    "\n",
    "plt.legend(loc='upper right')\n",
    "plt.show()"
   ]
  },
  {
   "cell_type": "markdown",
   "metadata": {},
   "source": [
    "**We can appreciate that by visualizing these two features, we are able to differentiate very accurately between the three types of signals. Probably, the traditional machine learning models that we will try as classifiers will be very accurate too.**"
   ]
  },
  {
   "cell_type": "markdown",
   "metadata": {},
   "source": [
    "### 8. Support Vector Machine algorithm"
   ]
  },
  {
   "cell_type": "markdown",
   "metadata": {},
   "source": [
    "**Let's first train our classification model with the training set!**"
   ]
  },
  {
   "cell_type": "code",
   "execution_count": 22,
   "metadata": {},
   "outputs": [
    {
     "data": {
      "text/plain": [
       "SVC(C=100, kernel='linear')"
      ]
     },
     "execution_count": 22,
     "metadata": {},
     "output_type": "execute_result"
    }
   ],
   "source": [
    "svm = SVC(kernel='linear', C=100)\n",
    "svm.fit(encoded_snls, train_label)"
   ]
  },
  {
   "cell_type": "markdown",
   "metadata": {},
   "source": [
    "**With our trained model let's do predictions of our testing set!**"
   ]
  },
  {
   "cell_type": "code",
   "execution_count": 23,
   "metadata": {},
   "outputs": [],
   "source": [
    "predictions = svm.predict(extract)"
   ]
  },
  {
   "cell_type": "code",
   "execution_count": 24,
   "metadata": {},
   "outputs": [
    {
     "data": {
      "text/plain": [
       "array([0., 0., 0., 0., 0., 0., 0., 0., 0., 0., 0., 0., 0., 0., 0., 0., 0.,\n",
       "       0., 0., 0., 0., 0., 0., 0., 0., 0., 0., 0., 0., 0., 1., 2., 1., 1.,\n",
       "       1., 1., 1., 1., 1., 1., 1., 1., 1., 1., 1., 1., 1., 1., 1., 0., 1.,\n",
       "       1., 1., 1., 1., 1., 1., 1., 1., 1., 2., 2., 2., 2., 2., 2., 2., 2.,\n",
       "       2., 1., 2., 2., 2., 2., 2., 2., 2., 2., 2., 2., 1., 2., 2., 2., 2.,\n",
       "       2., 2., 2., 2., 2.])"
      ]
     },
     "execution_count": 24,
     "metadata": {},
     "output_type": "execute_result"
    }
   ],
   "source": [
    "predictions"
   ]
  },
  {
   "cell_type": "markdown",
   "metadata": {},
   "source": [
    "**Let's evaluate if our classification model is able to classify the signals correctly even though they consist only of two features instead of the 60 time-steps.**"
   ]
  },
  {
   "cell_type": "code",
   "execution_count": 25,
   "metadata": {},
   "outputs": [
    {
     "data": {
      "text/plain": [
       "array([[30,  0,  0],\n",
       "       [ 1, 28,  1],\n",
       "       [ 0,  2, 28]], dtype=int64)"
      ]
     },
     "execution_count": 25,
     "metadata": {},
     "output_type": "execute_result"
    }
   ],
   "source": [
    "conf_mat = confusion_matrix(y_true=test_label, y_pred=predictions)\n",
    "conf_mat"
   ]
  },
  {
   "cell_type": "markdown",
   "metadata": {},
   "source": [
    "**Indeed, the confusion matrix figure shows that all the 90 signals were classified correctly. SVM algorithm achieves a 96% classification accuracy by taking only two features as input.**"
   ]
  },
  {
   "cell_type": "code",
   "execution_count": 26,
   "metadata": {},
   "outputs": [
    {
     "data": {
      "text/plain": [
       "<AxesSubplot:>"
      ]
     },
     "execution_count": 26,
     "metadata": {},
     "output_type": "execute_result"
    },
    {
     "data": {
      "image/png": "[encoded data removed]",
      "text/plain": [
       "<Figure size 432x288 with 2 Axes>"
      ]
     },
     "metadata": {
      "needs_background": "light"
     },
     "output_type": "display_data"
    }
   ],
   "source": [
    "sns.heatmap(conf_mat, annot=True, cmap='coolwarm')"
   ]
  },
  {
   "cell_type": "markdown",
   "metadata": {},
   "source": [
    "### 9. Random Forest algorithm"
   ]
  },
  {
   "cell_type": "code",
   "execution_count": 27,
   "metadata": {},
   "outputs": [
    {
     "data": {
      "text/plain": [
       "RandomForestClassifier()"
      ]
     },
     "execution_count": 27,
     "metadata": {},
     "output_type": "execute_result"
    }
   ],
   "source": [
    "rf = RandomForestClassifier(n_estimators=100, max_depth=None)\n",
    "rf.fit(encoded_snls, train_label)"
   ]
  },
  {
   "cell_type": "code",
   "execution_count": 28,
   "metadata": {},
   "outputs": [
    {
     "data": {
      "text/plain": [
       "array([0., 0., 0., 0., 0., 0., 0., 0., 0., 0., 0., 0., 0., 0., 0., 0., 0.,\n",
       "       0., 0., 0., 0., 0., 0., 0., 0., 0., 0., 0., 0., 0., 1., 1., 1., 1.,\n",
       "       1., 1., 1., 1., 1., 1., 1., 1., 1., 1., 1., 1., 1., 1., 1., 0., 1.,\n",
       "       1., 1., 1., 1., 1., 1., 1., 1., 1., 2., 2., 2., 2., 2., 2., 2., 2.,\n",
       "       2., 1., 2., 2., 2., 2., 2., 2., 2., 2., 2., 2., 1., 2., 2., 2., 2.,\n",
       "       2., 2., 2., 2., 2.])"
      ]
     },
     "execution_count": 28,
     "metadata": {},
     "output_type": "execute_result"
    }
   ],
   "source": [
    "predictions_rf = rf.predict(extract)\n",
    "predictions_rf"
   ]
  },
  {
   "cell_type": "code",
   "execution_count": 29,
   "metadata": {
    "scrolled": true
   },
   "outputs": [
    {
     "data": {
      "text/plain": [
       "<AxesSubplot:>"
      ]
     },
     "execution_count": 29,
     "metadata": {},
     "output_type": "execute_result"
    },
    {
     "data": {
      "image/png": "[encoded data removed]",
      "text/plain": [
       "<Figure size 432x288 with 2 Axes>"
      ]
     },
     "metadata": {
      "needs_background": "light"
     },
     "output_type": "display_data"
    }
   ],
   "source": [
    "conf_mat_rf = confusion_matrix(y_true=test_label, y_pred=predictions_rf)\n",
    "sns.heatmap(conf_mat_rf, annot=True, cmap='winter')"
   ]
  },
  {
   "cell_type": "markdown",
   "metadata": {},
   "source": [
    "**The confusion matrix figure shows that almost all the 90 signals were classified correctly. Random Forest algorithm achieves a 97% classification accuracy by taking only two features as input.**"
   ]
  },
  {
   "cell_type": "markdown",
   "metadata": {},
   "source": [
    "### 10. Logistic Regression algorithm"
   ]
  },
  {
   "cell_type": "code",
   "execution_count": 30,
   "metadata": {},
   "outputs": [
    {
     "data": {
      "text/plain": [
       "LogisticRegression(C=1)"
      ]
     },
     "execution_count": 30,
     "metadata": {},
     "output_type": "execute_result"
    }
   ],
   "source": [
    "lr = LogisticRegression(C=1)\n",
    "lr.fit(encoded_snls, train_label)"
   ]
  },
  {
   "cell_type": "code",
   "execution_count": 31,
   "metadata": {},
   "outputs": [
    {
     "data": {
      "text/plain": [
       "array([0., 0., 0., 0., 0., 0., 0., 0., 0., 0., 0., 0., 0., 0., 0., 0., 0.,\n",
       "       0., 0., 0., 0., 0., 0., 0., 0., 0., 0., 0., 0., 0., 1., 1., 1., 1.,\n",
       "       1., 1., 1., 1., 1., 1., 1., 1., 1., 1., 1., 1., 1., 1., 1., 0., 1.,\n",
       "       1., 1., 1., 1., 1., 1., 1., 1., 1., 2., 2., 2., 2., 2., 2., 2., 2.,\n",
       "       2., 1., 2., 2., 2., 2., 2., 2., 2., 2., 2., 2., 1., 2., 2., 2., 2.,\n",
       "       2., 2., 2., 2., 2.])"
      ]
     },
     "execution_count": 31,
     "metadata": {},
     "output_type": "execute_result"
    }
   ],
   "source": [
    "predictions_lr = lr.predict(extract)\n",
    "predictions_lr"
   ]
  },
  {
   "cell_type": "code",
   "execution_count": 32,
   "metadata": {},
   "outputs": [
    {
     "data": {
      "text/plain": [
       "<AxesSubplot:>"
      ]
     },
     "execution_count": 32,
     "metadata": {},
     "output_type": "execute_result"
    },
    {
     "data": {
      "image/png": "[encoded data removed]",
      "text/plain": [
       "<Figure size 432x288 with 2 Axes>"
      ]
     },
     "metadata": {
      "needs_background": "light"
     },
     "output_type": "display_data"
    }
   ],
   "source": [
    "conf_mat_lr = confusion_matrix(y_true=test_label, y_pred=predictions_lr)\n",
    "sns.heatmap(conf_mat_lr, annot=True, cmap='summer')"
   ]
  },
  {
   "cell_type": "markdown",
   "metadata": {},
   "source": [
    "**The confusion matrix figure shows that almost all the 90 signals were classified correctly. Logistic Regression algorithm achieves a 97% classification accuracy by taking only two features as input.**"
   ]
  },
  {
   "cell_type": "markdown",
   "metadata": {},
   "source": [
    "**We can conclude that the encoder part of our autoencoder does a good job by reducing the 60 initial features of the signals to only 2. With only 2 features, three different algorithms, SVM, Random Forest, and Logistic Regression, are able to classify almost perfectly, the different classes of signals.**"
   ]
  },
  {
   "cell_type": "code",
   "execution_count": null,
   "metadata": {},
   "outputs": [],
   "source": []
  }
 ],
 "metadata": {
  "kernelspec": {
   "display_name": "autoencoder",
   "language": "python",
   "name": "autoencoder"
  },
  "language_info": {
   "codemirror_mode": {
    "name": "ipython",
    "version": 3
   },
   "file_extension": ".py",
   "mimetype": "text/x-python",
   "name": "python",
   "nbconvert_exporter": "python",
   "pygments_lexer": "ipython3",
   "version": "3.8.3"
  },
  "toc": {
   "base_numbering": 1,
   "nav_menu": {},
   "number_sections": true,
   "sideBar": true,
   "skip_h1_title": false,
   "title_cell": "Table of Contents",
   "title_sidebar": "Contents",
   "toc_cell": false,
   "toc_position": {
    "height": "calc(100% - 180px)",
    "left": "10px",
    "top": "150px",
    "width": "315px"
   },
   "toc_section_display": true,
   "toc_window_display": true
  }
 },
 "nbformat": 4,
 "nbformat_minor": 2
}
